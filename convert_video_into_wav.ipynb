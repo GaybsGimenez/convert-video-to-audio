{
 "cells": [
  {
   "cell_type": "markdown",
   "metadata": {},
   "source": [
    "# Convert video into audio (.wav)"
   ]
  },
  {
   "cell_type": "code",
   "execution_count": null,
   "metadata": {},
   "outputs": [],
   "source": [
    "# Importar librerias\n",
    "from moviepy.editor import VideoFileClip\n",
    "import os"
   ]
  },
  {
   "cell_type": "code",
   "execution_count": 3,
   "metadata": {},
   "outputs": [
    {
     "data": {
      "text/plain": [
       "'\\nfrom moviepy.editor import VideoFileClip\\nimport os\\n\\ndef convert_mkv_to_wav(input_file, output_file):\\n    try:\\n        # Carrega o vídeo\\n        video_clip = VideoFileClip(input_file)\\n\\n        # Extrai o áudio\\n        audio_clip = video_clip.audio\\n\\n        # Salva o áudio como um arquivo WAV na pasta \"audios\"\\n        audio_clip.write_audiofile(output_file, codec=\\'pcm_s16le\\', bitrate=\\'192k\\')\\n\\n        print(f\"Conversão concluída. Áudio salvo em {output_file}\")\\n\\n    except Exception as e:\\n        print(f\"Erro durante a conversão: {e}\")\\n\\ndef convert_videos_in_folder(input_folder, output_folder):\\n    # Lista todos os arquivos na pasta\\n    video_files = [f for f in os.listdir(input_folder) if f.endswith((\\'.mp4\\', \\'.mkv\\'))]\\n\\n    for video_file in video_files:\\n        # Construa o caminho completo do vídeo\\n        input_video_path = os.path.join(input_folder, video_file)\\n\\n        # Gere o nome do arquivo de saída WAV\\n        output_audio_file = os.path.splitext(video_file)[0] + \".wav\"\\n        output_audio_path = os.path.join(output_folder, output_audio_file)\\n\\n        # Converta o vídeo para WAV\\n        convert_mkv_to_wav(input_video_path, output_audio_path)\\n\\n# Exemplo de uso\\nvideos_folder_path = \"videos\"\\naudios_folder_path = \"audios\"\\nconvert_videos_in_folder(videos_folder_path, audios_folder_path)\\n'"
      ]
     },
     "execution_count": 3,
     "metadata": {},
     "output_type": "execute_result"
    }
   ],
   "source": [
    "def convert_mkv_to_wav(input_file, output_file):\n",
    "    try:\n",
    "        # Carrega o vídeo\n",
    "        video_clip = VideoFileClip(input_file)\n",
    "\n",
    "        # Extrai o áudio\n",
    "        audio_clip = video_clip.audio\n",
    "\n",
    "        # Salva o áudio como um arquivo WAV na pasta \"audios\"\n",
    "        audio_clip.write_audiofile(output_file, codec='pcm_s16le', bitrate='192k')\n",
    "\n",
    "        print(f\"Conversão concluída. Áudio salvo em {output_file}\")\n",
    "\n",
    "    except Exception as e:\n",
    "        print(f\"Erro durante a conversão: {e}\")\n",
    "\n",
    "def convert_videos_in_folder(input_folder, output_folder):\n",
    "    # Lista todos os arquivos na pasta\n",
    "    video_files = [f for f in os.listdir(input_folder) if f.endswith(('.mp4', '.mkv'))]\n",
    "\n",
    "    for video_file in video_files:\n",
    "        # Construa o caminho completo do vídeo\n",
    "        input_video_path = os.path.join(input_folder, video_file)\n",
    "\n",
    "        # Gere o nome do arquivo de saída WAV\n",
    "        output_audio_file = os.path.splitext(video_file)[0] + \".wav\"\n",
    "        output_audio_path = os.path.join(output_folder, output_audio_file)\n",
    "\n",
    "        # Converta o vídeo para WAV\n",
    "        convert_mkv_to_wav(input_video_path, output_audio_path)\n",
    "\n",
    "# Exemplo de uso\n",
    "videos_folder_path = \"videos\"\n",
    "audios_folder_path = \"audios\"\n",
    "convert_videos_in_folder(videos_folder_path, audios_folder_path)\n"
   ]
  }
 ],
 "metadata": {
  "kernelspec": {
   "display_name": "env-audio",
   "language": "python",
   "name": "python3"
  },
  "language_info": {
   "codemirror_mode": {
    "name": "ipython",
    "version": 3
   },
   "file_extension": ".py",
   "mimetype": "text/x-python",
   "name": "python",
   "nbconvert_exporter": "python",
   "pygments_lexer": "ipython3",
   "version": "3.11.4"
  }
 },
 "nbformat": 4,
 "nbformat_minor": 2
}
